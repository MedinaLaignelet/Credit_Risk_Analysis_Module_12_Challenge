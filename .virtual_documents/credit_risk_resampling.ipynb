


# Import the modules
import numpy as np
import pandas as pd
from pathlib import Path
from sklearn.metrics import balanced_accuracy_score
from sklearn.metrics import confusion_matrix
from imblearn.metrics import classification_report_imbalanced

import warnings
warnings.filterwarnings('ignore')











# Read the CSV file from the Resources folder into a Pandas DataFrame
# Read the sales data
file_path = Path("Resources/lending_data.csv")
df_loans = pd.read_csv(file_path)

# Review the DataFrame
df_loans.head()








# Separate the data into labels and features

# Separate the y variable, the labels
y = df_loans["loan_status"]

# Separate the X variable, the features
X=df_loans.drop(columns="loan_status")


# Review the y variable Series
y


# Review the X variable DataFrame
X





# Check the balance of our target values
y.value_counts()





# Import the train_test_learn module
from sklearn.model_selection import train_test_split

# Split the data using train_test_split
# Assign a random_state of 1 to the function
X_train, X_test, y_train, y_test = train_test_split(X, y, random_state=1)












# Import the LogisticRegression module from SKLearn
from sklearn.linear_model import LogisticRegression

# Instantiate the Logistic Regression model
# Assign a random_state parameter of 1 to the model
logistic_regression_model = LogisticRegression(random_state=1)

# Fit the model using training data
lr_model = logistic_regression_model.fit(X_train, y_train)





# Make a prediction using the testing data
testing_predictions = lr_model.predict(X_test)
testing_predictions





# Print the balanced_accuracy score of the model
from sklearn.metrics import accuracy_score, classification_report
accuracy_score(y_test, testing_predictions)


# Generate a confusion matrix for the model
from sklearn.metrics import confusion_matrix
training_predictions = lr_model.predict(X_train)

training_matrix = confusion_matrix(y_train, training_predictions)

# Print the confusion matrix for the training data
print(training_matrix)


# Print the classification report for the model
training_report = classification_report(y_train, training_predictions)
print(training_report)

















# Import the RandomOverSampler module form imbalanced-learn
from imblearn.over_sampling import RandomOverSampler

# Instantiate the random oversampler model
# # Assign a random_state parameter of 1 to the model
ros = RandomOverSampler(random_state=1)

# Fit the original training data to the random_oversampler model
X_oversampled, y_oversampled = ros.fit_resample(X_train, y_train)


# Count the distinct values of the resampled labels data
y_oversampled.value_counts()





# Instantiate the Logistic Regression model
# Assign a random_state parameter of 1 to the model
logistic_regression_model_oversampled = LogisticRegression(random_state=1)

# Fit the model using the resampled training data
logistic_regression_model_oversampled.fit(X_oversampled, y_oversampled)


# Make a prediction using the testing data
testing_predictions_oversampled = logistic_regression_model_oversampled.predict(X_test)
testing_predictions_oversampled





y_train


testing_predictions


# Print the balanced_accuracy score of the model 
accuracy_score(y_test, testing_predictions_oversampled)




# Generate a confusion matrix for the model
training_predictions = lr_model.predict(X_train)
training_matrix = confusion_matrix(y_train, training_predictions)

# Print the confusion matrix for the training data
print(training_matrix)


# Print the classification report for the model
#from sklearn.metrics import accuracy_score, classification_report
from sklearn.metrics import classification_report
print(classification_report(y_test,testing_predictions_oversampled ))
print(f"Classifiction Report - Oversampled Data")






